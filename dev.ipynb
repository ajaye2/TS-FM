{
 "cells": [
  {
   "cell_type": "code",
   "execution_count": 1,
   "metadata": {},
   "outputs": [],
   "source": [
    "\n",
    "# !pip install lumnisfactors\n",
    "# !pip install sktime==0.16.1\n",
    "\n",
    "# !pip3 uninstall -y torch\n",
    "# !conda install cudnn=8.4.1\n",
    "# !pip install torch==1.13.1+cu117 torchvision==0.14.1+cu117 torchaudio==0.13.1 --extra-index-url https://download.pytorch.org/whl/cu117\n"
   ]
  },
  {
   "cell_type": "code",
   "execution_count": 2,
   "metadata": {},
   "outputs": [
    {
     "name": "stderr",
     "output_type": "stream",
     "text": [
      "/opt/conda/envs/baseline/lib/python3.8/site-packages/tqdm/auto.py:21: TqdmWarning: IProgress not found. Please update jupyter and ipywidgets. See https://ipywidgets.readthedocs.io/en/stable/user_install.html\n",
      "  from .autonotebook import tqdm as notebook_tqdm\n"
     ]
    }
   ],
   "source": [
    "%load_ext autoreload\n",
    "%autoreload 2\n",
    "\n",
    "import grequests\n",
    "\n",
    "from src.mvts_transformer.ts_transformer import TSTransformerEncoder, model_factory\n",
    "from src.utils import create_3d_array, standardize, rolling_mean_diff, generate_univariate_data_labels, generate_data_labels_from_3d_array\n",
    "from src.projection_layers import LSTMMaskedAutoencoderProjection, MLPMaskedAutoencoderProjection, TransformerAutoencoderProjection\n",
    "from src.projection_layers import *\n",
    "from src.dataset import TSDataset, ImputationDataset\n",
    "from src.dataloader import TSDataLoader\n",
    "from src.TFC.dataloader import TFCDataset\n",
    "from src.encoders import TFC\n",
    "from src.configs import Configs, ModelConfig\n",
    "from src.RevIN import RevIN\n",
    "from src.TSFM import TSFM\n",
    "from tqdm import tqdm\n",
    "\n",
    "\n",
    "import torch\n",
    "import torch.nn as nn\n",
    "import torch.fft as fft\n",
    "\n",
    "from matplotlib import pyplot as plt\n",
    "from torchinfo import summary\n",
    "import pandas as pd\n",
    "import numpy as np \n",
    "\n",
    "import sys\n",
    "sys.setrecursionlimit(50000000)\n"
   ]
  },
  {
   "cell_type": "code",
   "execution_count": 3,
   "metadata": {},
   "outputs": [
    {
     "name": "stdout",
     "output_type": "stream",
     "text": [
      "True\n"
     ]
    },
    {
     "data": {
      "text/plain": [
       "device(type='cuda')"
      ]
     },
     "execution_count": 3,
     "metadata": {},
     "output_type": "execute_result"
    }
   ],
   "source": [
    "# check if cuda is available\n",
    "device = torch.device(\"cuda\" if torch.cuda.is_available() else \"cpu\")\n",
    "print(torch.cuda.is_available())\n",
    "device"
   ]
  },
  {
   "cell_type": "code",
   "execution_count": 4,
   "metadata": {},
   "outputs": [
    {
     "name": "stdout",
     "output_type": "stream",
     "text": [
      "Torch version: 1.13.1+cu117\n",
      "CUDA available: True\n",
      "Torch version: 1.13.1+cu117\n",
      "CUDA available: True\n",
      "cuDNN version: 8401\n"
     ]
    }
   ],
   "source": [
    "# !conda uninstall pytorch torchvision -y\n",
    "# !pip install torch torchvision -f https://download.pytorch.org/whl/cu111/torch_stable.html\n",
    "import torch\n",
    "try:\n",
    "    !unset LD_LIBRARY_PATH\n",
    "    print(\"Torch version:\", torch.__version__)\n",
    "    print(\"CUDA available:\", torch.cuda.is_available())\n",
    "    print(\"cuDNN version:\", torch.backends.cudnn.version())\n",
    "except:\n",
    "    !unset LD_LIBRARY_PATH\n",
    "    print(\"Torch version:\", torch.__version__)\n",
    "    print(\"CUDA available:\", torch.cuda.is_available())\n",
    "    print(\"cuDNN version:\", torch.backends.cudnn.version())\n",
    "\n"
   ]
  },
  {
   "cell_type": "code",
   "execution_count": 5,
   "metadata": {},
   "outputs": [],
   "source": [
    "from lumnisfactors import LumnisFactors\n",
    "from KEYS import LUMNIS_API_KEY\n",
    "from pathlib import Path\n",
    "\n",
    "\n",
    "import os\n",
    "\n",
    "factorName          = \"price\"\n",
    "lumnis              = LumnisFactors(LUMNIS_API_KEY)\n",
    "path_to_data = \"/home/ec2-user/TS-FM/src/data/\"\n",
    "\n",
    "btc_file = Path(path_to_data + \"btc.csv\")\n",
    "eth_file = Path(path_to_data + \"eth.csv\")\n",
    "xmr_file = Path(path_to_data + \"xmr.csv\")\n",
    "\n",
    "if btc_file.is_file():\n",
    "    temp_df_btc_raw     = pd.read_csv(path_to_data + \"btc.csv\").set_index(\"Unnamed: 0\")\n",
    "else:\n",
    "    temp_df_btc_raw     = lumnis.get_historical_data(factorName, \"binance\", \"btcusdt\",  \"hour\", \"2021-01-23\", \"2023-04-16\")\n",
    "    temp_df_btc_raw.to_csv(path_to_data + \"btc.csv\")\n",
    "\n",
    "if eth_file.is_file():\n",
    "    temp_df_eth_raw     = pd.read_csv(path_to_data + \"eth.csv\").set_index(\"Unnamed: 0\")\n",
    "else:\n",
    "    temp_df_eth_raw     = lumnis.get_historical_data(factorName, \"binance\", \"ethusdt\",  \"hour\", \"2021-01-23\", \"2023-04-16\")\n",
    "    temp_df_eth_raw.to_csv(path_to_data + \"eth.csv\")\n",
    "\n",
    "if xmr_file.is_file():\n",
    "    temp_df_xmr_raw     = pd.read_csv(path_to_data + \"xmr.csv\").set_index(\"Unnamed: 0\")\n",
    "else:\n",
    "    temp_df_xmr_raw     = lumnis.get_historical_data(factorName, \"binance\", \"xmrusdt\",  \"hour\", \"2021-01-23\", \"2023-04-16\")\n",
    "    temp_df_xmr_raw.to_csv(path_to_data + \"xmr.csv\")\n",
    "\n",
    "# ob_df_raw           = lumnis.get_historical_data(\"orderbook_snapshot_5\", \"binance\", \"xmrusdt\",  \"hour\", \"2021-01-23\", \"2023-04-16\")\n"
   ]
  },
  {
   "cell_type": "code",
   "execution_count": 6,
   "metadata": {},
   "outputs": [],
   "source": [
    "# ob_df               = rolling_mean_diff(ob_df_raw, [5, 10, 20, 50, 100, 200, 500, 1000, 2000, 5000, 10000], 'standard')\n",
    "\n",
    "temp_df_btc         = rolling_mean_diff(temp_df_btc_raw, [ 5, 25, 50, 100, 200, 300, 400, 500, 600, 700, 800, 900, 1000 ], type='standard')\n",
    "temp_df_eth         = rolling_mean_diff(temp_df_eth_raw, [ 5, 25, 50, 100, 200, 300, 400, 500, 600, 700, 800, 900, 1000 ], type='standard')\n",
    "temp_df_xmr         = rolling_mean_diff(temp_df_xmr_raw, [ 5, 25, 50, 100, 200, 300, 400, 500, 600, 700, 800, 900, 1000 ], type='standard')\n",
    "\n",
    "\n",
    "cols                = temp_df_btc.columns #['close', 'volume'] #\n",
    "max_seq_len         = 50\n",
    "\n",
    "btc_array           = create_3d_array(temp_df_btc[cols], temp_df_btc.index, max_seq_len)\n",
    "eth_array           = create_3d_array(temp_df_eth[cols], temp_df_eth.index, max_seq_len)\n",
    "xmr_array           = create_3d_array(temp_df_xmr[cols], temp_df_xmr.index, max_seq_len)\n",
    "\n",
    "# x_data_f = fft.fft(torch.from_numpy( temp_df_btc.values )).abs()\n",
    "# ( temp_df_btc_raw / temp_df_btc_raw.rolling(1000).max() )['volume'].plot()\n",
    "# standardize(temp_df_btc, 500, type='standard')['close'].plot()"
   ]
  },
  {
   "cell_type": "code",
   "execution_count": 8,
   "metadata": {},
   "outputs": [],
   "source": [
    "# date            = temp_df_btc[cols].reset_index()[['index']].rename(columns={'index': 'date'})\n",
    "# date['date']    = pd.to_datetime(date['date'])\n",
    "# date['month']   = date.date.apply(lambda row: row.month, 1)\n",
    "\n",
    "# date['day']     = date.date.apply(lambda row: row.day, 1)\n",
    "# date['weekday'] = date.date.apply(lambda row: row.weekday(), 1)\n",
    "# date['hour']    = date.date.apply(lambda row: row.hour, 1)\n",
    "# # date['minute'] = date.date.apply(lambda row: row.minute, 1)\n",
    "# # date['second'] = date.date.apply(lambda row: row.second, 1)\n",
    "# date            = date.drop(['date'], axis=1)"
   ]
  },
  {
   "cell_type": "code",
   "execution_count": 9,
   "metadata": {},
   "outputs": [],
   "source": [
    "univariate_array     = create_3d_array(temp_df_eth_raw[['close']], temp_df_eth_raw.index, max_seq_len)"
   ]
  },
  {
   "cell_type": "code",
   "execution_count": 10,
   "metadata": {},
   "outputs": [
    {
     "name": "stdout",
     "output_type": "stream",
     "text": [
      "(57362, 50, 1) (57362, 50, 1)\n"
     ]
    }
   ],
   "source": [
    "\n",
    "univariate_array_eth         = create_3d_array(temp_df_eth_raw[['close']], temp_df_eth_raw.index, max_seq_len)\n",
    "univariate_array_btc         = create_3d_array(temp_df_btc_raw[['close']], temp_df_btc_raw.index, max_seq_len)\n",
    "univariate_array_xmr         = create_3d_array(temp_df_xmr_raw[['close']], temp_df_xmr_raw.index, max_seq_len)\n",
    "\n",
    "uni_data_eth, uni_labels_eth = generate_univariate_data_labels(univariate_array_eth)\n",
    "uni_data_btc, uni_labels_btc = generate_univariate_data_labels(univariate_array_btc)\n",
    "uni_data_xmr, uni_labels_xmr = generate_univariate_data_labels(univariate_array_xmr)\n",
    "\n",
    "uni_data                     = np.concatenate((uni_data_eth, uni_data_btc, uni_data_xmr), axis=0)\n",
    "uni_labels                   = np.concatenate((uni_labels_eth, uni_labels_btc, uni_labels_xmr), axis=0)\n",
    "\n",
    "print(uni_data.shape, uni_labels.shape)\n"
   ]
  },
  {
   "cell_type": "code",
   "execution_count": 11,
   "metadata": {},
   "outputs": [],
   "source": [
    "univariate_array     = create_3d_array(temp_df_eth_raw[['close']], temp_df_eth_raw.index, max_seq_len)\n",
    "uni_data, uni_labels = generate_univariate_data_labels(univariate_array)\n"
   ]
  },
  {
   "cell_type": "code",
   "execution_count": 12,
   "metadata": {},
   "outputs": [],
   "source": [
    "\n",
    "\n",
    "data_btc, labels_btc = generate_data_labels_from_3d_array(btc_array)\n",
    "data_eth, labels_eth = generate_data_labels_from_3d_array(eth_array)\n",
    "data_xmr, labels_xmr = generate_data_labels_from_3d_array(xmr_array)\n",
    "\n"
   ]
  },
  {
   "cell_type": "code",
   "execution_count": 13,
   "metadata": {},
   "outputs": [],
   "source": [
    "# torch.autograd.set_detect_anomaly(True)\n",
    "\n",
    "# fucntion for creating fake time series data\n",
    "def create_data(size=1000, seq_len=100, input_dims=1, output_dims=1, noise=0.1):\n",
    "    x = np.random.randn(size, seq_len, input_dims)\n",
    "    w = np.random.randn(input_dims, output_dims)\n",
    "    b = np.random.randn(output_dims)\n",
    "    y = np.matmul(x, w) + b + np.random.randn(size, seq_len, output_dims) * noise\n",
    "\n",
    "\n",
    "    return x, y\n",
    "# fucntion for creating fake highly non-linear time series data\n",
    "def create_complex_data(size=1000, seq_len=100, input_dims=1, output_dims=1, noise=0.1):\n",
    "    x = np.random.randn(size, seq_len, input_dims)\n",
    "    w = np.random.randn(input_dims, output_dims)\n",
    "    b = np.random.randn(output_dims)\n",
    "    y = np.sin(np.matmul(x, w) + b) + np.random.randn(size, seq_len, output_dims) * noise\n",
    "\n",
    "    return x, y\n",
    "\n",
    "# create fake data\n",
    "x, y = create_complex_data(size=40000, seq_len=150, input_dims=1, output_dims=1, noise=0.4)"
   ]
  },
  {
   "cell_type": "code",
   "execution_count": 14,
   "metadata": {},
   "outputs": [],
   "source": [
    "# Prepare your data as a dictionary\n",
    "data_dict = {\n",
    "    'dataset_btc': {'data': data_btc[:], 'labels': labels_btc[:]},\n",
    "    'dataset_eth': {'data': data_eth[:], 'labels': labels_eth[:]},\n",
    "    \n",
    "    'univariate': {\"data\": uni_data[:], \"labels\": uni_labels[:]},\n",
    "    'dataset_xmr': xmr_array, #{'data': data_xmr[:], 'labels': labels_xmr[:]},#xmr_array,\n",
    "    # 'fake_data': {'data': x, 'labels': y}\n",
    "}\n",
    "\n",
    "data_dict = {\n",
    "    # 'univariate': ,#{\"data\": uni_data, \"labels\": uni_labels},\n",
    "    'dataset_btc': btc_array,#{'data': data_btc, 'labels': labels_btc},\n",
    "    'dataset_eth': eth_array,#{'data': data_eth, 'labels': labels_eth},\n",
    "    'dataset_xmr': xmr_array, #{'data': data_xmr, 'labels': labels_xmr},#xmr_array,\n",
    "    \n",
    "}\n",
    "\n",
    "# data_dict['univariate'] = {\"data\": [], \"labels\": []}\n",
    "\n",
    "# for key in data_dict.keys():\n",
    "#     if key == 'univariate': continue\n",
    "\n",
    "#     num_points   = data_dict[key].shape[0]\n",
    "#     len_ts       = data_dict[key].shape[1]\n",
    "#     num_channels = data_dict[key].shape[2]\n",
    "\n",
    "#     for i in range(num_points - len_ts):\n",
    "#         for channel in range(num_channels):\n",
    "#             x = data_dict[key][i][:, channel]\n",
    "#             y = data_dict[key][i+len_ts][:, channel]\n",
    "            \n",
    "#             x = np.expand_dims(x, axis=1)\n",
    "#             y = np.expand_dims(y, axis=1)\n",
    "\n",
    "#             data_dict['univariate']['data'].append(x)\n",
    "#             data_dict['univariate']['labels'].append(y)\n",
    "\n",
    "# data_dict['univariate']['data'] = np.array(data_dict['univariate']['data'])\n",
    "# data_dict['univariate']['labels'] = np.array(data_dict['univariate']['labels'])\n",
    "\n",
    "\n",
    "for key in data_dict.keys():\n",
    "    if type(data_dict[key]) == dict: \n",
    "        data_dict[key]['data'] = torch.from_numpy( data_dict[key]['data'] ).to(torch.float32)\n",
    "        data_dict[key]['labels'] = torch.from_numpy( data_dict[key]['labels'] ).to(torch.float32)\n",
    "    else:\n",
    "        data_dict[key] = torch.from_numpy( data_dict[key] ).to(torch.float32)\n",
    "        \n",
    "# Create instances of TSDataset for each dataset\n",
    "datasets = { name: (TSDataset(data['data'], data['labels'], max_len=max_seq_len, shuffle=True) if type(data)==dict\n",
    "          else ImputationDataset(data, masking_ratio=0.25)) for name, data in data_dict.items() }\n",
    "\n",
    "# datasets = { name: TSDataset(data['data'], data['labels'], max_len=max_seq_len, shuffle=True) for name, data in data_dict.items() }\n",
    "\n",
    "\n",
    "# Create an instance of the custom data loader\n",
    "ts_data_loader = TSDataLoader(datasets, batch_size=512, max_len=max_seq_len, collate_fn='unsuperv', shuffle=False)\n",
    "\n",
    "num_epochs = 10#len(data_dict)\n"
   ]
  },
  {
   "cell_type": "code",
   "execution_count": 35,
   "metadata": {},
   "outputs": [
    {
     "name": "stderr",
     "output_type": "stream",
     "text": [
      "100%|██████████| 10/10 [00:07<00:00,  1.41it/s]\n"
     ]
    }
   ],
   "source": [
    "for epoch in tqdm( range(num_epochs) ):\n",
    "    iter = 0\n",
    "    for batch_data in ts_data_loader:\n",
    "        for dataset_name, data in batch_data.items():\n",
    "            \n",
    "            ds_type = ts_data_loader.datasets[dataset_name]\n",
    "            if isinstance(ds_type, ImputationDataset):\n",
    "                inputs, targets, target_masks, padding_masks = data\n",
    "                # print(dataset_name, \"inputs shape: \", inputs.shape, \"targets shape: \", targets.shape, \"target_masks shape: \", target_masks.shape, \"padding_masks shape: \", padding_masks.shape)\n",
    "            elif isinstance(ds_type, TSDataset):\n",
    "                if len(data) == 3:\n",
    "                    inputs, labels, padding_masks = data\n",
    "                    data_time_feat, label_time_feat = None, None\n",
    "                else:\n",
    "                    inputs, labels, padding_masks, data_time_feat, label_time_feat = data\n",
    "                # print(dataset_name, \"inputs shape: \", inputs.shape, \"labels shape: \", labels.shape, \"padding_masks shape: \", padding_masks.shape)\n",
    "            iter += 1\n",
    "    # print(iter)\n",
    "            # if dataset_name == 'univariate':\n",
    "            #     assert 1 == 0\n",
    "            # print(dataset_name, inputs.shape)\n",
    "            # print(dataset_name, inputs.shape, padding_masks.shape, targets.shape, target_masks.shape)\n",
    "        "
   ]
  },
  {
   "cell_type": "code",
   "execution_count": 17,
   "metadata": {},
   "outputs": [
    {
     "data": {
      "text/plain": [
       "torch.Size([512, 50, 104])"
      ]
     },
     "execution_count": 17,
     "metadata": {},
     "output_type": "execute_result"
    }
   ],
   "source": [
    "batch_y = inputs\n",
    "pred_len = 150\n",
    "label_len=0\n",
    "\n",
    "# decoder input\n",
    "dec_inp = torch.zeros_like(batch_y[:, -pred_len:, :]).float()\n",
    "dec_inp = torch.cat([batch_y[:, :label_len, :], dec_inp], dim=1).float()\n",
    "\n",
    "dec_inp.shape"
   ]
  },
  {
   "cell_type": "code",
   "execution_count": 18,
   "metadata": {},
   "outputs": [],
   "source": [
    "# from src.Time_Series_Library.models import Informer, Nonstationary_Transformer, ETSformer, DLinear, TimesNet, Transformer\n",
    "import importlib\n",
    "import src.Time_Series_Library.models as models\n",
    "importlib.reload(models)\n",
    "\n",
    "seq_len = 50\n",
    "model_config = ModelConfig( task_name='imputation', enc_in=inputs.shape[-1], dec_in=inputs.shape[-1],  c_out=inputs.shape[-1],\n",
    "                 d_model=64, n_heads=4, e_layers=2,  d_layers=2,  d_ff=32,\n",
    "                 dropout=0.1, activation='relu',  factor=5, freq='h',\n",
    "                 embed='fixed', output_attention=False, distil=True,\n",
    "                 pred_len=seq_len, label_len=1, num_class=1, \n",
    "                 seq_len=seq_len,\n",
    "                 top_k=1, \n",
    "                 use_temporal_embed=False,\n",
    "                 p_hidden_dims=[64, 64],\n",
    "                 p_hidden_layers=2,\n",
    "                 moving_avg=28, \n",
    "                 individual=False, \n",
    "                 num_kernels=3,\n",
    "                 max_len=seq_len*2,\n",
    "                 use_mask=False,\n",
    "                ) \n",
    "\n",
    "# informer    = Informer(model_config)\n",
    "# informer(inputs, None, dec_inp, None).shape"
   ]
  },
  {
   "cell_type": "code",
   "execution_count": 19,
   "metadata": {},
   "outputs": [
    {
     "data": {
      "text/plain": [
       "torch.Size([512, 50, 104])"
      ]
     },
     "execution_count": 19,
     "metadata": {},
     "output_type": "execute_result"
    }
   ],
   "source": [
    "ets_former  = models.ETSformer(model_config)\n",
    "ns_former   = models.Nonstationary_Transformer(model_config)\n",
    "dlinear     = models.DLinear(model_config, individual=False)\n",
    "timesnet    = models.TimesNet(model_config)\n",
    "transformer = models.Transformer(model_config)\n",
    "mask        = torch.ones_like(inputs)\n",
    "\n",
    "ns_former(inputs, None, inputs, None, torch.ones_like(inputs)).shape\n",
    "# ets_former(inputs, None, None, None).shape\n",
    "# dlinear(inputs, None, None, None).shape\n",
    "\n",
    "# timesnet(inputs, None, None, None, mask=mask).shape\n",
    "# transformer(inputs, None, None, None, mask=mask).shape"
   ]
  },
  {
   "cell_type": "code",
   "execution_count": 20,
   "metadata": {},
   "outputs": [],
   "source": [
    "from torchinfo import summary\n",
    "input_dims          = uni_data.shape[1:]\n",
    "input_shape         = (128,) + input_dims\n",
    "\n",
    "input_shapes_ets    = (input_shape, input_shape, input_shape, input_shape)\n",
    "input_shapes_ns     = (input_shape, input_shape, input_shape, input_shape, input_shape)\n",
    "input_shapes_dlinear= (input_shape, input_shape, input_shape, input_shape)\n",
    "input_shapes_timesnet= (input_shape, input_shape, input_shape, input_shape, input_shape)\n",
    "\n",
    "dtypes_ets          = [torch.float32, torch.float32, torch.float32, torch.float32]\n",
    "dtypes_ns           = [torch.float32, torch.float32, torch.float32, torch.float32, torch.long]\n",
    "dtypes_dlinear      = [torch.float32, torch.float32, torch.float32, torch.float32]\n",
    "\n",
    "\n",
    "\n",
    "# print( summary(ets_former, input_shapes_ets, dtypes=[torch.float32, torch.float32, torch.float32, torch.float32 ]))\n",
    "# print( summary(ns_former, input_shapes_ns, dtypes=dtypes_ns))\n",
    "# print( summary(dlinear, input_shapes_dlinear, dtypes=dtypes_dlinear))\n",
    "# print( summary(timesnet, input_shapes_timesnet, dtypes=dtypes_ns))\n",
    "# print( summary(transformer, input_shapes_timesnet, dtypes=dtypes_ns))"
   ]
  },
  {
   "cell_type": "code",
   "execution_count": 21,
   "metadata": {},
   "outputs": [],
   "source": [
    "# TODO: Fix the imputation dataset class to be faster"
   ]
  },
  {
   "cell_type": "code",
   "execution_count": 38,
   "metadata": {},
   "outputs": [
    {
     "name": "stdout",
     "output_type": "stream",
     "text": [
      "Warming up with 35 batches of size 512. Dataset name .\n",
      "Epoch: 0, Loss: 0.6809310521398272\n",
      "Epoch: 1, Loss: 0.6103959883962359\n",
      "Epoch: 2, Loss: 0.5436248234340123\n",
      "Epoch: 3, Loss: 0.49062837702887396\n",
      "Epoch: 4, Loss: 0.45986973558153427\n",
      "Epoch: 5, Loss: 0.44029217447553365\n",
      "Epoch: 6, Loss: 0.4245626449584961\n",
      "Epoch: 7, Loss: 0.41175961835043773\n",
      "Epoch: 8, Loss: 0.4010017854826791\n",
      "Epoch: 9, Loss: 0.39158908213887894\n",
      "Epoch: 10, Loss: 0.3827295013836452\n",
      "Epoch: 11, Loss: 0.3745583040373666\n",
      "Epoch: 12, Loss: 0.36740854723112926\n",
      "Epoch: 13, Loss: 0.36148589338575093\n",
      "Epoch: 14, Loss: 0.3562497913837433\n",
      "Epoch: 15, Loss: 0.35139602507863726\n",
      "Epoch: 16, Loss: 0.34723875182015557\n",
      "Epoch: 17, Loss: 0.3432120757443564\n",
      "Epoch: 18, Loss: 0.3396436291081565\n",
      "Epoch: 19, Loss: 0.3361963817051479\n",
      "Epoch: 20, Loss: 0.33262010046413965\n",
      "Epoch: 21, Loss: 0.3292120431150709\n",
      "Epoch: 22, Loss: 0.32594800506319316\n",
      "Epoch: 23, Loss: 0.32278534855161395\n",
      "Epoch: 24, Loss: 0.31961664642606463\n",
      "Epoch: 25, Loss: 0.31695315667561125\n",
      "Epoch: 26, Loss: 0.3139240801334381\n",
      "Epoch: 27, Loss: 0.3115177290780204\n",
      "Epoch: 28, Loss: 0.30917260476521086\n",
      "Epoch: 29, Loss: 0.3068148578916277\n",
      "Epoch: 30, Loss: 0.3046560457774571\n",
      "Epoch: 31, Loss: 0.3024768624986921\n",
      "Epoch: 32, Loss: 0.30072899631091526\n",
      "Epoch: 33, Loss: 0.2985321615423475\n",
      "Epoch: 34, Loss: 0.2969485035964421\n",
      "Epoch: 35, Loss: 0.29498607856886727\n",
      "Epoch: 36, Loss: 0.29340051327432903\n",
      "Epoch: 37, Loss: 0.29180631722722733\n",
      "Epoch: 38, Loss: 0.2901686983449118\n",
      "Epoch: 39, Loss: 0.288639383656638\n",
      "Epoch: 40, Loss: 0.2870715277535575\n",
      "Epoch: 41, Loss: 0.2854528163160597\n",
      "Epoch: 42, Loss: 0.28405698622976033\n",
      "Epoch: 43, Loss: 0.28291471770831517\n",
      "Epoch: 44, Loss: 0.28150044424193243\n",
      "Epoch: 45, Loss: 0.2802300078528268\n",
      "Epoch: 46, Loss: 0.27886161804199217\n",
      "Epoch: 47, Loss: 0.2777254811355046\n",
      "Epoch: 48, Loss: 0.276487009865897\n",
      "Epoch: 49, Loss: 0.27546576602118356\n"
     ]
    }
   ],
   "source": [
    "# Init parameters\n",
    "input_dims  = inputs.shape[1:] #uni_data.shape[1:] #( #data_btc.shape[1:]#uni_data.shape[1:] #(, 1)#btc_array.shape[1:]\n",
    "hidden_dims = 64\n",
    "output_dims = 64\n",
    "use_revin   = False\n",
    "\n",
    "device = 'cuda' if torch.cuda.is_available() else 'cpu'\n",
    "device = 'cuda'\n",
    "# Create an instance of the model\n",
    "masked_ae = LSTMMaskedAutoencoderProjection(input_dims[1], hidden_dims, output_dims, device=device, use_revin=use_revin, loss_type='masked_mae', use_gru=False)\n",
    "# # \n",
    "# masked_ae =  MLPMaskedAutoencoderProjection(input_dims[1], hidden_dims, output_dims, device=device, use_revin=use_revin, lose_type='mae')\n",
    "# masked_ae  = TransformerEncoderProjectionLayer(input_dims[1], hidden_dims, output_dims, device=device, n_heads=1,\n",
    "#                     num_layers=1, max_len=max_seq_len, use_revin=use_revin, loss_type='mae', pos_encoding='learnable', dropout=0.1, norm='LayerNorm')\n",
    "# \n",
    "masked_ae = TransformerAutoencoderProjection(model_config, type_model=\"transformer\", device=device, use_revin=use_revin, loss_type='masked_mae',)\n",
    "\n",
    "\n",
    "# Print the model summary\n",
    "input_shape     = (128,) + input_dims\n",
    "padding_shape = (128, max_seq_len)\n",
    "input_shapes = (input_shape)    #(input_shape, padding_shape)\n",
    "input_dtypes = [torch.float32] #[torch.float32, torch.bool]\n",
    "# print( summary(masked_ae, input_shapes, dtypes=input_dtypes))\n",
    "# print( summary(masked_ae, (input_shape, ), dtypes=[torch.float32, ]))\n",
    "\n",
    "# summary(tfc, ((64, 50, 104), (64, 50, 104), (64, 50)), dtypes=[torch.float32, torch.float32, torch.bool])\n",
    "\n",
    "# Train the model\n",
    "losses = masked_ae.warmup(dataset=datasets['dataset_xmr'], max_len=max_seq_len, n_epochs=50, \n",
    "                          batch_size=512, learning_rate=1e-4, log=True, \n",
    "                          data_set_type=type( datasets['dataset_xmr'] ), collate_fn='unsuperv',\n",
    "                          scheduler_step_size= 75, scheduler_gamma=0.1, verbose=True\n",
    "                          )"
   ]
  },
  {
   "cell_type": "code",
   "execution_count": 39,
   "metadata": {},
   "outputs": [
    {
     "data": {
      "text/plain": [
       "[<matplotlib.lines.Line2D at 0x7fefa12d9df0>]"
      ]
     },
     "execution_count": 39,
     "metadata": {},
     "output_type": "execute_result"
    },
    {
     "data": {
      "image/png": "[encoded data removed]",
      "text/plain": [
       "<Figure size 640x480 with 1 Axes>"
      ]
     },
     "metadata": {},
     "output_type": "display_data"
    }
   ],
   "source": [
    "plt.plot(losses)"
   ]
  },
  {
   "cell_type": "code",
   "execution_count": 40,
   "metadata": {},
   "outputs": [
    {
     "data": {
      "image/png": "[encoded data removed]",
      "text/plain": [
       "<Figure size 640x480 with 1 Axes>"
      ]
     },
     "metadata": {},
     "output_type": "display_data"
    },
    {
     "data": {
      "image/png": "[encoded data removed]",
      "text/plain": [
       "<Figure size 640x480 with 1 Axes>"
      ]
     },
     "metadata": {},
     "output_type": "display_data"
    },
    {
     "data": {
      "text/plain": [
       "''"
      ]
     },
     "execution_count": 40,
     "metadata": {},
     "output_type": "execute_result"
    }
   ],
   "source": [
    "# temp_uni_data_eth = torch.from_numpy(uni_data_eth).float()\n",
    "temp_input           = torch.from_numpy( xmr_array[:500] ).to(torch.float32) #data_dict['univariate']['data'][50000:51000]    #uni_data inputs\n",
    "temp_labels          = torch.from_numpy( xmr_array[:500] ).to(torch.float32) #data_dict['univariate']['labels'][50000:51000]  #uni_data labels\n",
    "temp_target_masks    = torch.ones_like(temp_input) \n",
    "masked_ae.eval()\n",
    "with torch.no_grad():\n",
    "    reconstructed_input = masked_ae(x=temp_input.to(device), mask=temp_target_masks.to(device))\n",
    "# uni_data_eth, uni_labels_eth \n",
    "# uni_data_btc, uni_labels_btc \n",
    "# uni_data_xmr, uni_labels_xmr \n",
    "\n",
    "channel  = 1\n",
    "instance = 1\n",
    "\n",
    "for channel in range(0, 1):\n",
    "    plt.figure()\n",
    "    plt.plot(temp_input[instance][:,channel].detach().numpy()) \n",
    "    plt.show()\n",
    "    plt.plot(reconstructed_input[instance][:,channel].detach().cpu().numpy(), label='reconstructed')\n",
    "    plt.plot(temp_labels[instance][:,channel].detach().cpu().numpy(), label='original') \n",
    "    plt.legend()\n",
    "    \n",
    "\n",
    "    plt.show()\n",
    "masked_ae.train()\n",
    "''\n",
    "\n",
    "# embeddings = masked_ae.encode(temp_input.to(device), type_of_pooling='last')\n",
    "# plt.plot( embeddings[:,1].detach().cpu().numpy() )\n",
    "# embeddings.detach().cpu().numpy().shape"
   ]
  },
  {
   "cell_type": "code",
   "execution_count": null,
   "metadata": {},
   "outputs": [
    {
     "ename": "KeyboardInterrupt",
     "evalue": "",
     "output_type": "error",
     "traceback": [
      "\u001b[0;31m---------------------------------------------------------------------------\u001b[0m",
      "\u001b[0;31mKeyboardInterrupt\u001b[0m                         Traceback (most recent call last)",
      "Cell \u001b[0;32mIn[27], line 12\u001b[0m\n\u001b[1;32m      9\u001b[0m labels \u001b[39m=\u001b[39m torch\u001b[39m.\u001b[39mzeros((data_dict[\u001b[39m'\u001b[39m\u001b[39mdataset_btc\u001b[39m\u001b[39m'\u001b[39m]\u001b[39m.\u001b[39mshape[\u001b[39m0\u001b[39m], \u001b[39m1\u001b[39m))\n\u001b[1;32m     10\u001b[0m ds \u001b[39m=\u001b[39m {\u001b[39m\"\u001b[39m\u001b[39msamples\u001b[39m\u001b[39m\"\u001b[39m: data_dict[\u001b[39m'\u001b[39m\u001b[39mdataset_btc\u001b[39m\u001b[39m'\u001b[39m], \u001b[39m\"\u001b[39m\u001b[39mlabels\u001b[39m\u001b[39m\"\u001b[39m: labels}\n\u001b[0;32m---> 12\u001b[0m tfc_ds \u001b[39m=\u001b[39m TFCDataset(ds, configs, \u001b[39m\"\u001b[39;49m\u001b[39mpre_train\u001b[39;49m\u001b[39m\"\u001b[39;49m, target_dataset_size\u001b[39m=\u001b[39;49mconfigs\u001b[39m.\u001b[39;49mbatch_size, subset\u001b[39m=\u001b[39;49m\u001b[39mFalse\u001b[39;49;00m)\n",
      "File \u001b[0;32m~/Documents/GitHub/TS-FM/src/TFC/dataloader.py:61\u001b[0m, in \u001b[0;36mTFCDataset.__init__\u001b[0;34m(self, dataset, config, training_mode, target_dataset_size, subset)\u001b[0m\n\u001b[1;32m     59\u001b[0m np\u001b[39m.\u001b[39mrandom\u001b[39m.\u001b[39mshuffle(data)\n\u001b[1;32m     60\u001b[0m X_train, y_train \u001b[39m=\u001b[39m \u001b[39mzip\u001b[39m(\u001b[39m*\u001b[39mdata)\n\u001b[0;32m---> 61\u001b[0m X_train, y_train \u001b[39m=\u001b[39m torch\u001b[39m.\u001b[39;49mstack(\u001b[39mlist\u001b[39;49m(X_train), dim\u001b[39m=\u001b[39;49m\u001b[39m0\u001b[39;49m), torch\u001b[39m.\u001b[39mstack(\u001b[39mlist\u001b[39m(y_train), dim\u001b[39m=\u001b[39m\u001b[39m0\u001b[39m)\n\u001b[1;32m     63\u001b[0m \u001b[39mif\u001b[39;00m \u001b[39mlen\u001b[39m(X_train\u001b[39m.\u001b[39mshape) \u001b[39m<\u001b[39m \u001b[39m3\u001b[39m:\n\u001b[1;32m     64\u001b[0m     X_train \u001b[39m=\u001b[39m X_train\u001b[39m.\u001b[39munsqueeze(\u001b[39m2\u001b[39m)\n",
      "\u001b[0;31mKeyboardInterrupt\u001b[0m: "
     ]
    }
   ],
   "source": [
    "config_kwargs = {}\n",
    "config_kwargs['batch_size']          = 128\n",
    "config_kwargs['input_channels']      = data_dict['dataset_btc'].shape[-1]\n",
    "config_kwargs['timesteps']           = data_dict['dataset_btc'].shape[1]\n",
    "config_kwargs['TSlength_aligned']    = max_seq_len\n",
    "\n",
    "\n",
    "configs = Configs(**config_kwargs)\n",
    "labels = torch.zeros((data_dict['dataset_btc'].shape[0], 1))\n",
    "ds = {\"samples\": data_dict['dataset_btc'], \"labels\": labels}\n",
    "\n",
    "tfc_ds = TFCDataset(ds, configs, \"pre_train\", target_dataset_size=configs.batch_size, subset=False)"
   ]
  },
  {
   "cell_type": "code",
   "execution_count": null,
   "metadata": {},
   "outputs": [
    {
     "data": {
      "text/plain": [
       "====================================================================================================\n",
       "Layer (type:depth-idx)                             Output Shape              Param #\n",
       "====================================================================================================\n",
       "TFC                                                [64, 100]                 --\n",
       "├─TSTransformerEncoder: 1-1                        [64, 50, 104]             --\n",
       "│    └─Linear: 2-1                                 [50, 64, 128]             13,440\n",
       "│    └─LearnablePositionalEncoding: 2-2            [50, 64, 128]             6,400\n",
       "│    │    └─Dropout: 3-1                           [50, 64, 128]             --\n",
       "│    └─TransformerEncoder: 2-3                     [50, 64, 128]             --\n",
       "│    │    └─ModuleList: 3-2                        --                        99,584\n",
       "│    └─Dropout: 2-4                                [64, 50, 128]             --\n",
       "│    └─Linear: 2-5                                 [64, 50, 104]             13,416\n",
       "├─Sequential: 1-2                                  [64, 100]                 --\n",
       "│    └─AdaptiveAvgPool2d: 2-6                      [64, 10, 10]              --\n",
       "│    └─Flatten: 2-7                                [64, 100]                 --\n",
       "├─Sequential: 1-3                                  [64, 128]                 --\n",
       "│    └─Linear: 2-8                                 [64, 128]                 12,928\n",
       "│    └─BatchNorm1d: 2-9                            [64, 128]                 256\n",
       "│    └─ReLU: 2-10                                  [64, 128]                 --\n",
       "│    └─Linear: 2-11                                [64, 128]                 16,512\n",
       "├─TSTransformerEncoder: 1-4                        [64, 50, 104]             --\n",
       "│    └─Linear: 2-12                                [50, 64, 128]             13,440\n",
       "│    └─LearnablePositionalEncoding: 2-13           [50, 64, 128]             6,400\n",
       "│    │    └─Dropout: 3-3                           [50, 64, 128]             --\n",
       "│    └─TransformerEncoder: 2-14                    [50, 64, 128]             --\n",
       "│    │    └─ModuleList: 3-4                        --                        99,584\n",
       "│    └─Dropout: 2-15                               [64, 50, 128]             --\n",
       "│    └─Linear: 2-16                                [64, 50, 104]             13,416\n",
       "├─Sequential: 1-5                                  [64, 100]                 --\n",
       "│    └─AdaptiveAvgPool2d: 2-17                     [64, 10, 10]              --\n",
       "│    └─Flatten: 2-18                               [64, 100]                 --\n",
       "├─Sequential: 1-6                                  [64, 128]                 --\n",
       "│    └─Linear: 2-19                                [64, 128]                 12,928\n",
       "│    └─BatchNorm1d: 2-20                           [64, 128]                 256\n",
       "│    └─ReLU: 2-21                                  [64, 128]                 --\n",
       "│    └─Linear: 2-22                                [64, 128]                 16,512\n",
       "====================================================================================================\n",
       "Total params: 325,072\n",
       "Trainable params: 325,072\n",
       "Non-trainable params: 0\n",
       "Total mult-adds (M): 10.22\n",
       "====================================================================================================\n",
       "Input size (MB): 2.67\n",
       "Forward/backward pass size (MB): 38.49\n",
       "Params size (MB): 0.72\n",
       "Estimated Total Size (MB): 41.87\n",
       "===================================================================================================="
      ]
     },
     "execution_count": 14,
     "metadata": {},
     "output_type": "execute_result"
    }
   ],
   "source": [
    "from src.encoders import TFC\n",
    "configs = Configs(TSlength_aligned=50, \n",
    "                  features_len=inputs.shape[-1], \n",
    "                  features_len_f=inputs.shape[-1], \n",
    "                  n_head=1,\n",
    "                  dim_feedforward=128,\n",
    "                  num_transformer_layers=1,\n",
    "                  encoder_layer_dims=128,\n",
    "                  linear_encoder_dim=128,\n",
    "                  channel_output_size=10,\n",
    "                  time_output_size=10\n",
    "                  )\n",
    "tfc     = TFC(configs)\n",
    "\n",
    "summary(tfc, ((64, 50, 104), (64, 50, 104), (64, 50)), dtypes=[torch.float32, torch.float32, torch.bool])"
   ]
  },
  {
   "cell_type": "code",
   "execution_count": null,
   "metadata": {},
   "outputs": [],
   "source": [
    "input_data_shapes_dict  = {name: data.shape[1:] for name, data in data_dict.items()}\n",
    "\n",
    "encoder_configs         = Configs(TSlength_aligned=max_seq_len, \n",
    "                                    features_len=inputs.shape[-1], \n",
    "                                    features_len_f=inputs.shape[-1], \n",
    "                                    n_head=1,\n",
    "                                    dim_feedforward=128,\n",
    "                                    num_transformer_layers=1,\n",
    "                                    encoder_layer_dims=128,\n",
    "                                    linear_encoder_dim=256,\n",
    "                                    channel_output_size=10,\n",
    "                                    time_output_size=10,\n",
    "                                    d_model=128,\n",
    "                                    pos_encoding='learnable',\n",
    "                                    transformer_activation='gelu',\n",
    "                                    transformer_normalization_layer='BatchNorm',\n",
    "                                    freeze=False,\n",
    "                                )\n",
    "\n",
    "tsfm                    = TSFM(input_data_shapes_dict, \n",
    "                                batch_size=1024, \n",
    "                                lr=1e-3, \n",
    "                                log=True, \n",
    "                                device='cpu',\n",
    "                                max_seq_length=max_seq_len,\n",
    "                                encoder_config=encoder_configs\n",
    "                                )"
   ]
  },
  {
   "cell_type": "code",
   "execution_count": null,
   "metadata": {},
   "outputs": [],
   "source": [
    "from src.mvts_transformer.ts_transformer import TSTransformerEncoder, model_factory\n",
    "\n",
    "configs               =  encoder_configs\n",
    "transformer_encoder_f = TSTransformerEncoder(configs.features_len, configs.TSlength_aligned, configs.d_model, configs.n_head,\n",
    "                                configs.num_transformer_layers, configs.dim_feedforward, dropout=configs.dropout,\n",
    "                                pos_encoding=configs.pos_encoding, activation=configs.transformer_activation,\n",
    "                                norm=configs.transformer_normalization_layer, freeze=configs.freeze\n",
    "                                )"
   ]
  },
  {
   "cell_type": "code",
   "execution_count": null,
   "metadata": {},
   "outputs": [],
   "source": [
    "# Create a two tensors of size (64, 50, 104) and  (64, 50) with dtypes torch.float32, torch.bool\n",
    "x       = torch.randn(64, 50, 104)\n",
    "mask    = torch.ones(64, 50, dtype=torch.bool)\n",
    "\n",
    "# Pass the two tensors to the model\n",
    "out     = transformer_encoder_f(x, mask)"
   ]
  },
  {
   "cell_type": "code",
   "execution_count": null,
   "metadata": {},
   "outputs": [
    {
     "data": {
      "text/plain": [
       "=========================================================================================================\n",
       "Layer (type:depth-idx)                                  Output Shape              Param #\n",
       "=========================================================================================================\n",
       "TSTransformerEncoder                                    [64, 50, 104]             --\n",
       "├─Linear: 1-1                                           [50, 64, 128]             13,440\n",
       "├─LearnablePositionalEncoding: 1-2                      [50, 64, 128]             6,400\n",
       "│    └─Dropout: 2-1                                     [50, 64, 128]             --\n",
       "├─TransformerEncoder: 1-3                               [50, 64, 128]             --\n",
       "│    └─ModuleList: 2-2                                  --                        --\n",
       "│    │    └─TransformerBatchNormEncoderLayer: 3-1       [50, 64, 128]             99,584\n",
       "├─Dropout: 1-4                                          [64, 50, 128]             --\n",
       "├─Linear: 1-5                                           [64, 50, 104]             13,416\n",
       "=========================================================================================================\n",
       "Total params: 132,840\n",
       "Trainable params: 132,840\n",
       "Non-trainable params: 0\n",
       "Total mult-adds (M): 3.21\n",
       "=========================================================================================================\n",
       "Input size (MB): 1.33\n",
       "Forward/backward pass size (MB): 19.05\n",
       "Params size (MB): 0.24\n",
       "Estimated Total Size (MB): 20.62\n",
       "========================================================================================================="
      ]
     },
     "execution_count": 24,
     "metadata": {},
     "output_type": "execute_result"
    }
   ],
   "source": [
    "summary(transformer_encoder_f, ((64, 50, 104), (64, 50)), dtypes=[torch.float32, torch.bool])"
   ]
  },
  {
   "cell_type": "code",
   "execution_count": null,
   "metadata": {},
   "outputs": [
    {
     "name": "stderr",
     "output_type": "stream",
     "text": [
      "/Users/abuj/Documents/GitHub/TS-FM/src/TSFM.py:133: UserWarning: indexing with dtype torch.uint8 is now deprecated, please use a dtype torch.bool instead. (Triggered internally at /Users/runner/work/pytorch/pytorch/pytorch/aten/src/ATen/native/IndexingUtils.h:28.)\n",
      "  train_data             = train_data[~np.isnan(train_data).all(axis=2).all(axis=1)]\n"
     ]
    }
   ],
   "source": [
    "warmup_config_kwargs = {\n",
    "    \"dataset_btc\": {\n",
    "        \"batch_size\": 1024,\n",
    "        \"input_channels\": data_dict['dataset_btc'].shape[-1],\n",
    "        \"timesteps\": data_dict['dataset_btc'].shape[1],\n",
    "    },\n",
    "    \"dataset_eth\": {\n",
    "        \"batch_size\": 1024,\n",
    "        \"input_channels\": data_dict['dataset_eth'].shape[-1],\n",
    "        \"timesteps\": data_dict['dataset_eth'].shape[1],\n",
    "    },\n",
    "    \"dataset_xmr\": {\n",
    "        \"batch_size\": 1024,\n",
    "        \"input_channels\": data_dict['dataset_xmr'].shape[-1],\n",
    "        \"timesteps\": data_dict['dataset_xmr'].shape[1],\n",
    "    }\n",
    "}\n",
    "\n",
    "data_set_type = ImputationDataset # Make the ability to infer dataset type based on projection layer \n",
    "loss          = tsfm.fit(data_dict, n_epochs=10, warmup_projection_layers=False, log=True, verbose=True, shuffle=True, warmup_epochs=10, warmup_config_kwargs=warmup_config_kwargs, warmup_batch_size=128, data_set_type=data_set_type)\n",
    "\n"
   ]
  },
  {
   "cell_type": "code",
   "execution_count": null,
   "metadata": {},
   "outputs": [],
   "source": [
    "from src.loss import MASE\n",
    "from torchmetrics import MeanAbsolutePercentageError, MeanSquaredLogError\n",
    "\n",
    "loss_mse  = nn.MSELoss()(data_dict['dataset_btc'][0], data_dict['dataset_btc'][1])\n",
    "loss_mape = nn.L1Loss()(data_dict['dataset_btc'][0], data_dict['dataset_btc'][1])\n",
    "# loss_mase = MASE()(data_dict['dataset_btc'][0], data_dict['dataset_btc'][1])\n",
    "loss_mape2 = MeanAbsolutePercentageError()(data_dict['dataset_btc'][3] , data_dict['dataset_btc'][100])\n",
    "loss_msle = MeanSquaredLogError()(data_dict['dataset_btc'][0], data_dict['dataset_btc'][1])\n",
    "\n",
    "\n",
    "print(loss_mse, loss_mape, loss_mape2, loss_msle)"
   ]
  },
  {
   "cell_type": "code",
   "execution_count": null,
   "metadata": {},
   "outputs": [],
   "source": [
    "import torch\n",
    "import torch.nn as nn\n",
    "import numpy as np\n",
    "\n",
    "class EventSamplingModule(nn.Module):\n",
    "    def __init__(self, input_size, event_embedding_size, z_score_threshold=2.0):\n",
    "        super(EventSamplingModule, self).__init__()\n",
    "        self.z_score_threshold = z_score_threshold\n",
    "        self.event_embedding = nn.Embedding(input_size, event_embedding_size)\n",
    "\n",
    "    def z_score_analysis(self, time_series):\n",
    "        means = time_series.mean(dim=1, keepdim=True)\n",
    "        stds = time_series.std(dim=1, keepdim=True)\n",
    "        z_scores = torch.abs((time_series - means) / stds)\n",
    "        event_indices = (z_scores > self.z_score_threshold).long()\n",
    "        return event_indices\n",
    "\n",
    "    def forward(self, time_series):\n",
    "        event_indices = self.z_score_analysis(time_series)\n",
    "        event_embeddings = self.event_embedding(event_indices)\n",
    "        return event_embeddings\n",
    "\n",
    "# Example usage\n",
    "input_size = 1\n",
    "event_embedding_size = 10\n",
    "time_series_length = 50\n",
    "batch_size = 32\n",
    "\n",
    "# Generate synthetic time series data\n",
    "time_series_data = torch.randn(batch_size, time_series_length, input_size)\n",
    "\n",
    "# Initialize Event Sampling Module\n",
    "esm = EventSamplingModule(input_size, event_embedding_size)\n",
    "\n",
    "# Get event embeddings\n",
    "event_embeddings = esm(time_series_data)\n",
    "# print(event_embeddings.shape)"
   ]
  },
  {
   "cell_type": "code",
   "execution_count": null,
   "metadata": {},
   "outputs": [],
   "source": [
    "config = {\n",
    "    'task': 'imputation',\n",
    "    'model': 'transformer',\n",
    "    'num_layers': 2,\n",
    "    'd_model': 32,\n",
    "    'num_heads': 4,\n",
    "    'dim_feedforward': 128,\n",
    "    'dropout': 0.1,\n",
    "    'pos_encoding': 'learnable',\n",
    "    'activation': 'relu',\n",
    "    'normalization_layer': 'layer_norm',\n",
    "    'freeze': False,\n",
    "    'data_window_len': max_seq_len,\n",
    "    'max_seq_len': max_seq_len,\n",
    "}\n",
    "ts_model = model_factory(config, xmr_array.shape[-1])\n",
    "\n",
    "# ts_model(xmr_array[0])"
   ]
  }
 ],
 "metadata": {
  "kernelspec": {
   "display_name": "baseline",
   "language": "python",
   "name": "python3"
  },
  "language_info": {
   "codemirror_mode": {
    "name": "ipython",
    "version": 3
   },
   "file_extension": ".py",
   "mimetype": "text/x-python",
   "name": "python",
   "nbconvert_exporter": "python",
   "pygments_lexer": "ipython3",
   "version": "3.8.16"
  },
  "orig_nbformat": 4
 },
 "nbformat": 4,
 "nbformat_minor": 2
}
