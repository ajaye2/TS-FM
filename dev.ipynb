{
 "cells": [
  {
   "cell_type": "code",
   "execution_count": 226,
   "metadata": {},
   "outputs": [],
   "source": [
    "# !pip install torchsummary\n",
    "# !pip install torchinfo\n",
    "# !pip install lumnisfactors\n",
    "# !pip install matplotlib\n"
   ]
  },
  {
   "cell_type": "code",
   "execution_count": 1,
   "metadata": {},
   "outputs": [
    {
     "name": "stderr",
     "output_type": "stream",
     "text": [
      "/Users/abuj/opt/anaconda3/envs/baseline/lib/python3.8/site-packages/tqdm/auto.py:21: TqdmWarning: IProgress not found. Please update jupyter and ipywidgets. See https://ipywidgets.readthedocs.io/en/stable/user_install.html\n",
      "  from .autonotebook import tqdm as notebook_tqdm\n"
     ]
    }
   ],
   "source": [
    "%load_ext autoreload\n",
    "%autoreload 2\n",
    "\n",
    "import grequests\n",
    "from src.dataloader import TSDataset, TSDataLoader\n",
    "from src.utils import create_3d_array, standardize\n",
    "from src.projection_layers import LSTMMaskedAutoencoderProjection\n",
    "from src.RevIN import RevIN\n",
    "from src.TSFM import TSFM\n",
    "import torch\n",
    "from matplotlib import pyplot as plt\n",
    "from torchinfo import summary\n"
   ]
  },
  {
   "cell_type": "code",
   "execution_count": 2,
   "metadata": {},
   "outputs": [],
   "source": [
    "from KEYS import LUMNIS_API_KEY"
   ]
  },
  {
   "cell_type": "code",
   "execution_count": 3,
   "metadata": {},
   "outputs": [],
   "source": [
    "from src.mvts_transformer.ts_transformer import TSTransformerEncoder, model_factory"
   ]
  },
  {
   "cell_type": "code",
   "execution_count": 4,
   "metadata": {},
   "outputs": [],
   "source": [
    "from lumnisfactors import LumnisFactors\n",
    "\n",
    "factorName          = \"price\"\n",
    "lumnis              = LumnisFactors(LUMNIS_API_KEY)\n",
    "temp_df_btc         = lumnis.get_historical_data(factorName, \"binance\", \"btcusdt\",  \"hour\", \"2021-01-23\", \"2023-04-08\")\n",
    "temp_df_eth         = lumnis.get_historical_data(factorName, \"binance\", \"ethusdt\",  \"hour\", \"2021-01-23\", \"2023-04-08\")\n",
    "temp_df_xmr         = lumnis.get_historical_data(factorName, \"binance\", \"xmrusdt\",  \"hour\", \"2021-01-23\", \"2023-04-08\")\n",
    "\n",
    "# btc_array = create_3d_array(temp_df_btc, temp_df_btc.index, 24)\n",
    "# eth_array = create_3d_array(temp_df_eth, temp_df_eth.index, 24)\n",
    "# xmr_array = create_3d_array(temp_df_xmr, temp_df_xmr.index, 24)\n"
   ]
  },
  {
   "cell_type": "code",
   "execution_count": 5,
   "metadata": {},
   "outputs": [],
   "source": [
    "\n",
    "# standardize(temp_df_btc, 500, type='standard')['close'].plot()\n",
    "\n",
    "cols = ['close', 'volume'] #temp_df_btc.columns\n",
    "\n",
    "max_seq_len = 50\n",
    "\n",
    "\n",
    "btc_array = create_3d_array(temp_df_btc[cols], temp_df_btc.index, max_seq_len)\n",
    "eth_array = create_3d_array(temp_df_eth[cols], temp_df_eth.index, max_seq_len)\n",
    "xmr_array = create_3d_array(temp_df_xmr[cols], temp_df_xmr.index, max_seq_len)"
   ]
  },
  {
   "cell_type": "code",
   "execution_count": 7,
   "metadata": {},
   "outputs": [
    {
     "data": {
      "text/plain": [
       "2"
      ]
     },
     "execution_count": 7,
     "metadata": {},
     "output_type": "execute_result"
    }
   ],
   "source": [
    "xmr_array.shape[-1]"
   ]
  },
  {
   "cell_type": "code",
   "execution_count": null,
   "metadata": {},
   "outputs": [],
   "source": [
    "config = {\n",
    "    'task': 'imputation',\n",
    "    'model': 'transformer',\n",
    "    'num_layers': 2,\n",
    "    'd_model': 32,\n",
    "    'num_heads': 4,\n",
    "    'dim_feedforward': 128,\n",
    "    'dropout': 0.1,\n",
    "    'pos_encoding': 'learnable',\n",
    "    'activation': 'relu',\n",
    "    'normalization_layer': 'layer_norm',\n",
    "    'freeze': False,\n",
    "    'data_window_len': max_seq_len,\n",
    "    'max_seq_len': max_seq_len,\n",
    "}\n",
    "ts_model = model_factory(config, xmr_array.shape[-1])"
   ]
  },
  {
   "cell_type": "code",
   "execution_count": 485,
   "metadata": {},
   "outputs": [],
   "source": [
    "# Prepare your data as a dictionary\n",
    "data_dict = {\n",
    "    'dataset_btc': torch.from_numpy( btc_array).to(torch.float32),\n",
    "    'dataset_eth': torch.from_numpy( eth_array).to(torch.float32),\n",
    "    'dataset_xmr': torch.from_numpy( xmr_array).to(torch.float32)\n",
    "}\n",
    "\n",
    "# Create instances of TSDataset for each dataset\n",
    "datasets = {name: TSDataset(data) for name, data in data_dict.items()}\n",
    "\n",
    "# Create an instance of the custom data loader\n",
    "ts_data_loader = TSDataLoader(datasets, batch_size=64)\n",
    "\n",
    "num_epochs = 3\n"
   ]
  },
  {
   "cell_type": "code",
   "execution_count": 486,
   "metadata": {},
   "outputs": [
    {
     "name": "stdout",
     "output_type": "stream",
     "text": [
      "dataset_btc torch.Size([64, 20, 2])\n",
      "dataset_eth torch.Size([64, 20, 2])\n",
      "dataset_xmr torch.Size([64, 20, 2])\n"
     ]
    }
   ],
   "source": [
    "for epoch in range(num_epochs):\n",
    "    for batch_data in ts_data_loader:\n",
    "        for dataset_name, data in batch_data.items():\n",
    "\n",
    "            if isinstance(data, tuple) and len(data) == 2:\n",
    "                # Unpack data and labels\n",
    "                inputs, labels = data\n",
    "            else:\n",
    "                inputs = data\n",
    "            print(dataset_name, inputs.shape)\n",
    "        break"
   ]
  },
  {
   "cell_type": "code",
   "execution_count": 493,
   "metadata": {},
   "outputs": [
    {
     "data": {
      "text/plain": [
       "==========================================================================================\n",
       "Layer (type:depth-idx)                   Output Shape              Param #\n",
       "==========================================================================================\n",
       "LSTMMaskedAutoencoderProjection          [128, 20, 2]              --\n",
       "├─RevIN: 1-1                             [128, 20, 2]              4\n",
       "├─LSTM: 1-2                              [128, 20, 16]             1,280\n",
       "├─LSTM: 1-3                              [128, 20, 16]             2,176\n",
       "├─Linear: 1-4                            [128, 20, 2]              34\n",
       "├─RevIN: 1-5                             [128, 20, 2]              (recursive)\n",
       "==========================================================================================\n",
       "Total params: 3,494\n",
       "Trainable params: 3,494\n",
       "Non-trainable params: 0\n",
       "Total mult-adds (M): 8.87\n",
       "==========================================================================================\n",
       "Input size (MB): 0.02\n",
       "Forward/backward pass size (MB): 0.78\n",
       "Params size (MB): 0.01\n",
       "Estimated Total Size (MB): 0.81\n",
       "=========================================================================================="
      ]
     },
     "execution_count": 493,
     "metadata": {},
     "output_type": "execute_result"
    }
   ],
   "source": [
    "# Init parameters\n",
    "input_dims  = btc_array.shape[1:]\n",
    "hidden_dims = 16 \n",
    "output_dims = 16 \n",
    "\n",
    "# Create an instance of the model\n",
    "masked_ae = LSTMMaskedAutoencoderProjection(input_dims, hidden_dims, output_dims, use_revin=True)\n",
    "\n",
    "# Print the model summary\n",
    "summary(masked_ae, (128,) + input_dims)\n",
    "\n",
    "# Train the model\n",
    "masked_ae.warmup(dataset= datasets['dataset_btc'], n_epochs=10, batch_size=128, learning_rate=1e-3, log=True)"
   ]
  },
  {
   "cell_type": "code",
   "execution_count": 496,
   "metadata": {},
   "outputs": [
    {
     "data": {
      "text/plain": [
       "[<matplotlib.lines.Line2D at 0x1792b8730>]"
      ]
     },
     "execution_count": 496,
     "metadata": {},
     "output_type": "execute_result"
    },
    {
     "data": {
      "image/png": "[encoded data removed]",
      "text/plain": [
       "<Figure size 640x480 with 1 Axes>"
      ]
     },
     "metadata": {},
     "output_type": "display_data"
    }
   ],
   "source": [
    "reconstructed_input = masked_ae(inputs, training=False)\n",
    "plt.plot(inputs[0][:,1].detach().numpy()) \n",
    "plt.plot(reconstructed_input[0][:,1].detach().numpy()) \n",
    "\n",
    "plt.show()\n",
    "\n",
    "embeddings = masked_ae.encode(inputs, type_of_pooling='mean')\n",
    "# plt.plot( embeddings[:,2].detach().numpy() )"
   ]
  },
  {
   "cell_type": "code",
   "execution_count": 528,
   "metadata": {},
   "outputs": [],
   "source": [
    "input_data_shapes_dict = {name: data.shape[1:] for name, data in data_dict.items()}\n",
    "tsfm = TSFM(input_data_shapes_dict, batch_size=128, lr=1e-3, log=True, device='cpu')"
   ]
  },
  {
   "cell_type": "code",
   "execution_count": 529,
   "metadata": {},
   "outputs": [
    {
     "name": "stdout",
     "output_type": "stream",
     "text": [
      "Warming up with 150 batches of size 128\n",
      "Epoch: 0, Loss: 63929605.44833333\n",
      "Epoch: 1, Loss: 25317634.34\n",
      "Epoch: 2, Loss: 13692914.3925\n",
      "Epoch: 3, Loss: 10837431.025833333\n",
      "Epoch: 4, Loss: 13161785.487395834\n",
      "Epoch: 5, Loss: 11059614.398125\n",
      "Epoch: 6, Loss: 8042114.4025\n",
      "Epoch: 7, Loss: 7014742.262291667\n",
      "Epoch: 8, Loss: 5588967.471041666\n",
      "Epoch: 9, Loss: 6743178.948125\n",
      "Warming up with 149 batches of size 128\n",
      "Epoch: 0, Loss: 403836680.97315437\n",
      "Epoch: 1, Loss: 194326895.4899329\n",
      "Epoch: 2, Loss: 130538597.8557047\n",
      "Epoch: 3, Loss: 112793752.52348994\n",
      "Epoch: 4, Loss: 136572576.58011746\n",
      "Epoch: 5, Loss: 67979292.95889261\n",
      "Epoch: 6, Loss: 90982014.17030202\n",
      "Epoch: 7, Loss: 109210667.10738255\n",
      "Epoch: 8, Loss: 52253810.38758389\n",
      "Epoch: 9, Loss: 88377376.10486577\n",
      "Warming up with 148 batches of size 128\n",
      "Epoch: 0, Loss: 5597487.724662162\n",
      "Epoch: 1, Loss: 4915042.993137669\n",
      "Epoch: 2, Loss: 1975208.289326436\n",
      "Epoch: 3, Loss: 2306994.304370777\n",
      "Epoch: 4, Loss: 1586076.7847867399\n",
      "Epoch: 5, Loss: 2219196.5794974663\n",
      "Epoch: 6, Loss: 1475739.1873944257\n",
      "Epoch: 7, Loss: 2479537.070708404\n",
      "Epoch: 8, Loss: 1084747.826488598\n",
      "Epoch: 9, Loss: 1624096.9610430743\n"
     ]
    },
    {
     "data": {
      "text/plain": [
       "{'dataset_btc': [], 'dataset_eth': [], 'dataset_xmr': []}"
      ]
     },
     "execution_count": 529,
     "metadata": {},
     "output_type": "execute_result"
    }
   ],
   "source": [
    "loss = tsfm.fit(data_dict, n_epochs=10, log=True)"
   ]
  },
  {
   "cell_type": "code",
   "execution_count": null,
   "metadata": {},
   "outputs": [],
   "source": []
  }
 ],
 "metadata": {
  "kernelspec": {
   "display_name": "baseline",
   "language": "python",
   "name": "python3"
  },
  "language_info": {
   "codemirror_mode": {
    "name": "ipython",
    "version": 3
   },
   "file_extension": ".py",
   "mimetype": "text/x-python",
   "name": "python",
   "nbconvert_exporter": "python",
   "pygments_lexer": "ipython3",
   "version": "3.8.16"
  },
  "orig_nbformat": 4
 },
 "nbformat": 4,
 "nbformat_minor": 2
}
